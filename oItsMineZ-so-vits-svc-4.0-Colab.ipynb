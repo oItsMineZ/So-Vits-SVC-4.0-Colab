{
  "cells": [
    {
      "cell_type": "markdown",
      "metadata": {
        "id": "8E_rHPYQcP6v"
      },
      "source": [
        "## **oItsMineZ's so-vits-svc-4.0 Model** 🎙\n",
        "- [![Original Notebook](https://img.shields.io/badge/Original_notebook-_so_vits_svc_fork_4.0.ipynb-black?style=for-the-badge&logo=github&logoColor=white)](https://github.com/voicepaw/so-vits-svc-fork/blob/main/notebooks/so-vits-svc-fork-4.0.ipynb)\n",
        "- [![Tutorial Video](https://img.shields.io/badge/Youtube-_Tutorial-FF0000?style=for-the-badge&logo=youtube&logoColor=white)](https://www.youtube.com/@oItsMineZ)\n",
        "- [![oItsMineZ's so-vits-svc-4.0 Model](https://img.shields.io/badge/%F0%9F%A4%97_Hugging_Face-_oItsMineZ'_so_vits_svc_4.0_Model-yellow?style=for-the-badge&logoColor=yellow)](https://huggingface.co/oItsMineZ/oItsMineZ-so-vits-svc-4.0-Model)\n",
        "\n",
        "## **oItsMineZ's RVC v2 Model**\n",
        "\n",
        "- Hugging Face (RVC v2 Model)\n",
        "\n",
        "[![oItsMineZ's RVC Model](https://img.shields.io/badge/%F0%9F%A4%97_Hugging_Face-_oItsMineZ's%20RVC%20%20Model-yellow?style=for-the-badge&logoColor=yellow)](https://huggingface.co/oItsMineZ/oItsMineZ-RVC-Model)\n",
        "\n",
        "## 📃**WebUI Version**\n",
        "- AI Cover (เพลงที่มีทำนอง)\n",
        "\n",
        "[![Hugging Face Spaces](https://img.shields.io/badge/%F0%9F%8E%A4%EF%B8%8F_Space-_RVC%20v2%20AI%20Cover%20WebUI-red?style=for-the-badge)](https://huggingface.co/spaces/oItsMineZ/RVC-v2-AI-Cover-WebUI)\n",
        "\n",
        "- เฉพาะ Vocal (เสียงพูดปกติ)\n",
        "\n",
        "[![Hugging Face Spaces](https://img.shields.io/badge/%F0%9F%8E%99%EF%B8%8F_Space-_oItsMineZ's%20RVC%20v2%20WebUI-orange?style=for-the-badge)](https://huggingface.co/spaces/oItsMineZ/RVC-v2-WebUI)\n"
      ]
    },
    {
      "cell_type": "markdown",
      "metadata": {
        "id": "RK4ZbwTY98oZ"
      },
      "source": [
        "## **Follow Me 💎**\n",
        "- 🔴 Youtube\n",
        "\n",
        "> [![oItsMineZ on Youtube](https://img.shields.io/badge/YouTube-FF0000?style=for-the-badge&logo=youtube&logoColor=white)](bit.ly/oItsMineZ)\n",
        "\n",
        "- 📱 Tiktok\n",
        "\n",
        "> [![oItsMineZ on Tiktok](https://img.shields.io/badge/TikTok-000000?style=for-the-badge&logo=tiktok&logoColor=white)](https://www.tiktok.com/@oitsminez)\n",
        "\n",
        "\n",
        "\n"
      ]
    },
    {
      "cell_type": "markdown",
      "metadata": {
        "id": "O1LRPCuy98oa"
      },
      "source": [
        "## **Link** 📌\n",
        "- **[Vocal Remover](https://x-minus.pro/ai)**\n",
        "- **[MP3 to WAV](https://cloudconvert.com/mp3-to-wav)**"
      ]
    },
    {
      "cell_type": "markdown",
      "metadata": {
        "id": "SfuSPNBI98oa"
      },
      "source": [
        "## **ขั้นตอนเบื้องต้น**\n",
        "- สร้างโฟเดอร์ใน Google Drive ในบัญชีที่ใช้ Google Colab ชื่อว่า ***oitsminez-svc-4.0***\n",
        "- ในโฟเดอร์ ***oitsminez-svc-4.0*** ให้สร้างโฟเดอร์ชื่อว่า ***audio*** แล้วอัปโหลดไฟล์เสียง (ที่มีเฉพาะ Vocal) ***นามสกุล .wma เท่านั้น*** ลงในโฟเดอร์ ***audio***"
      ]
    },
    {
      "cell_type": "code",
      "execution_count": null,
      "metadata": {
        "id": "BabnQ7cbcP63"
      },
      "outputs": [],
      "source": [
        "#@title **Installation**\n",
        "#@title Check GPU\n",
        "!nvidia-smi\n",
        "\n",
        "#@title Mount Google Drive\n",
        "from google.colab import drive\n",
        "drive.mount('/content/drive')\n",
        "\n",
        "#@title Create Model Directory\n",
        "!mkdir -p \"Model\"\n",
        "\n",
        "#@title Install dependencies\n",
        "#@markdown ถ้าขึ้น error ไม่ต้องสนใจ ทำตามขั้นตอนได้เหมือนเดิม\n",
        "!python -m pip install -U pip wheel\n",
        "%pip install -U ipython\n",
        "\n",
        "#@markdown Branch (สำหรับนักพัฒนา)\n",
        "BRANCH = \"none\" #@param {\"type\": \"string\"}\n",
        "if BRANCH == \"none\":\n",
        "    %pip install -U so-vits-svc-fork\n",
        "else:\n",
        "    %pip install -U git+https://github.com/34j/so-vits-svc-fork.git@{BRANCH}"
      ]
    },
    {
      "cell_type": "markdown",
      "metadata": {
        "id": "hIusayJ7cP69"
      },
      "source": [
        "## Use Model"
      ]
    },
    {
      "cell_type": "code",
      "execution_count": null,
      "metadata": {
        "id": "i9ICvbrH98oc"
      },
      "outputs": [],
      "source": [
        "#@title Choose Speaker Model\n",
        "#@markdown เลือก Model ที่ต้องการ\n",
        "MODEL = \"DaengGuitar\" #@param [\"DaengGuitar\", \"TAE\", \"Prayut\", \"RedremasteRed\", \"ท่านศาสดา\", \"OPZTV\", \"PPGodKnow\", \"BreakGate\"]\n",
        "\n",
        "import os\n",
        "MODELS = {\n",
        "    \"DaengGuitar\": {\n",
        "        \"path\": \"Model/DaengGuitar.pth\",\n",
        "        \"model_name\": \"DaengGuitar\",\n",
        "        \"model_config\": \"Model/dg-config.json\",\n",
        "        \"url_model\": \"https://huggingface.co/oItsMineZ/oItsMineZ-so-vits-svc-4.0-PreTrained-Model/resolve/main/DaengGuitar/DaengGuitar.pth\",\n",
        "        \"url_config\": \"https://huggingface.co/oItsMineZ/oItsMineZ-so-vits-svc-4.0-PreTrained-Model/resolve/main/DaengGuitar/config.json\"\n",
        "    },\n",
        "    \"TAE\": {\n",
        "        \"path\": \"Model/TAEEXZENFIRE.pth\",\n",
        "        \"model_name\": \"TAEEXZENFIRE\",\n",
        "        \"model_config\": \"Model/tae-config.json\",\n",
        "        \"url_model\": \"https://huggingface.co/oItsMineZ/oItsMineZ-so-vits-svc-4.0-PreTrained-Model/resolve/main/TAEEXZENFIRE/TAEEXZENFIRE.pth\",\n",
        "        \"url_config\": \"https://huggingface.co/oItsMineZ/oItsMineZ-so-vits-svc-4.0-PreTrained-Model/resolve/main/TAEEXZENFIRE/config.json\"\n",
        "    },\n",
        "    \"Prayut\": {\n",
        "        \"path\": \"Model/Prayut.pth\",\n",
        "        \"model_name\": \"Prayut\",\n",
        "        \"model_config\": \"Model/py-config.json\",\n",
        "        \"url_model\": \"https://huggingface.co/oItsMineZ/oItsMineZ-so-vits-svc-4.0-PreTrained-Model/resolve/main/Prayut/Prayut.pth\",\n",
        "        \"url_config\": \"https://huggingface.co/oItsMineZ/oItsMineZ-so-vits-svc-4.0-PreTrained-Model/resolve/main/Prayut/config.json\"\n",
        "    },\n",
        "    \"RedremasteRed\": {\n",
        "        \"path\": \"Model/RedremasteRed.pth\",\n",
        "        \"model_name\": \"RedremasteRed\",\n",
        "        \"model_config\": \"Model/red-config.json\",\n",
        "        \"url_model\": \"https://huggingface.co/oItsMineZ/oItsMineZ-so-vits-svc-4.0-PreTrained-Model/resolve/main/RedremasteRed/RedremasteRed.pth\",\n",
        "        \"url_config\": \"https://huggingface.co/oItsMineZ/oItsMineZ-so-vits-svc-4.0-PreTrained-Model/resolve/main/RedremasteRed/config.json\"\n",
        "    },\n",
        "    \"ท่านศาสดา\": {\n",
        "        \"path\": \"Model/Sadsada.pth\",\n",
        "        \"model_name\": \"Sadsada\",\n",
        "        \"model_config\": \"Model/sadsa-config.json\",\n",
        "        \"url_model\": \"https://huggingface.co/oItsMineZ/oItsMineZ-so-vits-svc-4.0-PreTrained-Model/resolve/main/Sadsada/Sadsada.pth\",\n",
        "        \"url_config\": \"https://huggingface.co/oItsMineZ/oItsMineZ-so-vits-svc-4.0-PreTrained-Model/resolve/main/Sadsada/config.json\"\n",
        "    },\n",
        "    \"OPZTV\": {\n",
        "        \"path\": \"Model/OPZTV.pth\",\n",
        "        \"model_name\": \"OPZTV\",\n",
        "        \"model_config\": \"Model/opz-config.json\",\n",
        "        \"url_model\": \"https://huggingface.co/oItsMineZ/oItsMineZ-so-vits-svc-4.0-PreTrained-Model/resolve/main/OPZTV/OPZTV.pth\",\n",
        "        \"url_config\": \"https://huggingface.co/oItsMineZ/oItsMineZ-so-vits-svc-4.0-PreTrained-Model/resolve/main/OPZTV/config.json\"\n",
        "    },\n",
        "    \"PPGodKnow\": {\n",
        "        \"path\": \"Model/PPGodKnow.pth\",\n",
        "        \"model_name\": \"PPGodKnow\",\n",
        "        \"model_config\": \"Model/pp-config.json\",\n",
        "        \"url_model\": \"https://huggingface.co/oItsMineZ/oItsMineZ-so-vits-svc-4.0-PreTrained-Model/resolve/main/PPGodKnow/PPGodKnow.pth\",\n",
        "        \"url_config\": \"https://huggingface.co/oItsMineZ/oItsMineZ-so-vits-svc-4.0-PreTrained-Model/resolve/main/PPGodKnow/config.json\"\n",
        "    },\n",
        "    \"BreakGate\": {\n",
        "        \"path\": \"Model/BreakGate.pth\",\n",
        "        \"model_name\": \"BreakGate\",\n",
        "        \"model_config\": \"Model/bg-config.json\",\n",
        "        \"url_model\": \"https://huggingface.co/oItsMineZ/oItsMineZ-so-vits-svc-4.0-PreTrained-Model/resolve/main/BreakGate/BreakGate.pth\",\n",
        "        \"url_config\": \"https://huggingface.co/oItsMineZ/oItsMineZ-so-vits-svc-4.0-PreTrained-Model/resolve/main/BreakGate/config.json\"\n",
        "    }\n",
        "}\n",
        "\n",
        "if MODEL in MODELS:\n",
        "    model = MODELS[MODEL]\n",
        "    PATH = model[\"path\"]\n",
        "    MODEL_NAME = model[\"model_name\"]\n",
        "    MODEL_PATH = model[\"path\"]\n",
        "    MODEL_CONFIG = model[\"model_config\"]\n",
        "\n",
        "    if not os.path.isfile(PATH):\n",
        "        os.system(f'wget -N {model[\"url_model\"]} -O {PATH}')\n",
        "        os.system(f'wget -N {model[\"url_config\"]} -O {model[\"model_config\"]}')\n",
        "else:\n",
        "    raise ValueError(\"Invalid model choice. Please select a valid model from the Model List.\")"
      ]
    },
    {
      "cell_type": "code",
      "execution_count": null,
      "metadata": {
        "id": "fPMYznAl98od"
      },
      "outputs": [],
      "source": [
        "#@title Clear Model Files in Directory\n",
        "if CLEAR_MODEL:\n",
        "    import shutil\n",
        "    folder = 'Model'\n",
        "    for filename in os.listdir(folder):\n",
        "        file_path = os.path.join(folder, filename)\n",
        "        try:\n",
        "            if os.path.isfile(file_path) or os.path.islink(file_path):\n",
        "                os.unlink(file_path)\n",
        "            elif os.path.isdir(file_path):\n",
        "                shutil.rmtree(file_path)\n",
        "        except Exception as e:\n",
        "            print(f\"Error occurred while deleting {file_path}: {e}\")"
      ]
    },
    {
      "cell_type": "code",
      "execution_count": null,
      "metadata": {
        "id": "GRqd6RoM98oe"
      },
      "outputs": [],
      "source": [
        "#@title Get Other Pretrained Model\n",
        "#@markdown สำหรับใช้ Model อื่นๆ ที่ไม่มีใน List (เฉพาะ Link ของ Hugging Face เท่านั้น!!)\n",
        "MODEL_URL = \"\" #@param {type: \"string\"}\n",
        "CONFIG_URL = \"\" #@param {type: \"string\"}\n",
        "!wget -N {MODEL_URL} -O Model/MyModel.pth\n",
        "!wget -N {CONFIG_URL} -O Model/my-config.json\n",
        "MODEL_NAME = \"MyModel\"\n",
        "MODEL_PATH = \"Model/MyModel.pth\"\n",
        "MODEL_CONFIG = \"Model/my-config.json\""
      ]
    },
    {
      "cell_type": "code",
      "execution_count": null,
      "metadata": {
        "id": "cRa7E-ce98oe"
      },
      "outputs": [],
      "source": [
        "#@title Voice Output\n",
        "#@markdown ใส่ชื่อเดี่ยวกับไฟล์เสียงที่อัปโหลดใน Google Drive เช่น Vocal.wav ให้ใส่เฉพาะ **\"Vocal\"**\n",
        "VOICE_NAME = \"Vocal\" #@param {type: \"string\"}\n",
        "from IPython.display import Audio, display\n",
        "!svc infer drive/MyDrive/oitsminez-svc-4.0/audio/{VOICE_NAME}.wav -c {MODEL_CONFIG} -m {MODEL_PATH}\n",
        "display(Audio(f\"drive/MyDrive/oitsminez-svc-4.0/audio/{VOICE_NAME}.out.wav\", autoplay=True))"
      ]
    }
  ],
  "metadata": {
    "accelerator": "GPU",
    "colab": {
      "provenance": []
    },
    "gpuClass": "standard",
    "kernelspec": {
      "display_name": "Python 3",
      "name": "python3"
    },
    "language_info": {
      "codemirror_mode": {
        "name": "ipython",
        "version": 3
      },
      "file_extension": ".py",
      "mimetype": "text/x-python",
      "name": "python",
      "nbconvert_exporter": "python",
      "pygments_lexer": "ipython3",
      "version": "3.10.10"
    }
  },
  "nbformat": 4,
  "nbformat_minor": 0
}